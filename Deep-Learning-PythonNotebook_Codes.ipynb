{
 "cells": [
  {
   "cell_type": "code",
   "execution_count": 1,
   "id": "567de9e7",
   "metadata": {},
   "outputs": [
    {
     "name": "stdout",
     "output_type": "stream",
     "text": [
      "Requirement already satisfied: cmake in c:\\users\\mages\\anaconda3\\lib\\site-packages (3.25.2)\n",
      "Note: you may need to restart the kernel to use updated packages.\n"
     ]
    }
   ],
   "source": [
    "pip install cmake"
   ]
  },
  {
   "cell_type": "code",
   "execution_count": 2,
   "id": "6e821f7d",
   "metadata": {},
   "outputs": [
    {
     "name": "stdout",
     "output_type": "stream",
     "text": [
      "Requirement already satisfied: tensorflow in c:\\users\\mages\\anaconda3\\lib\\site-packages (2.11.0)\n",
      "Requirement already satisfied: tensorflow-intel==2.11.0 in c:\\users\\mages\\anaconda3\\lib\\site-packages (from tensorflow) (2.11.0)\n",
      "Requirement already satisfied: tensorflow-io-gcs-filesystem>=0.23.1 in c:\\users\\mages\\anaconda3\\lib\\site-packages (from tensorflow-intel==2.11.0->tensorflow) (0.31.0)\n",
      "Requirement already satisfied: flatbuffers>=2.0 in c:\\users\\mages\\anaconda3\\lib\\site-packages (from tensorflow-intel==2.11.0->tensorflow) (23.3.3)\n",
      "Requirement already satisfied: tensorflow-estimator<2.12,>=2.11.0 in c:\\users\\mages\\anaconda3\\lib\\site-packages (from tensorflow-intel==2.11.0->tensorflow) (2.11.0)\n",
      "Requirement already satisfied: wrapt>=1.11.0 in c:\\users\\mages\\anaconda3\\lib\\site-packages (from tensorflow-intel==2.11.0->tensorflow) (1.12.1)\n",
      "Requirement already satisfied: setuptools in c:\\users\\mages\\anaconda3\\lib\\site-packages (from tensorflow-intel==2.11.0->tensorflow) (61.2.0)\n",
      "Requirement already satisfied: tensorboard<2.12,>=2.11 in c:\\users\\mages\\anaconda3\\lib\\site-packages (from tensorflow-intel==2.11.0->tensorflow) (2.11.2)\n",
      "Requirement already satisfied: libclang>=13.0.0 in c:\\users\\mages\\anaconda3\\lib\\site-packages (from tensorflow-intel==2.11.0->tensorflow) (15.0.6.1)\n",
      "Requirement already satisfied: absl-py>=1.0.0 in c:\\users\\mages\\anaconda3\\lib\\site-packages (from tensorflow-intel==2.11.0->tensorflow) (1.4.0)\n",
      "Requirement already satisfied: protobuf<3.20,>=3.9.2 in c:\\users\\mages\\anaconda3\\lib\\site-packages (from tensorflow-intel==2.11.0->tensorflow) (3.19.1)\n",
      "Requirement already satisfied: google-pasta>=0.1.1 in c:\\users\\mages\\anaconda3\\lib\\site-packages (from tensorflow-intel==2.11.0->tensorflow) (0.2.0)\n",
      "Requirement already satisfied: grpcio<2.0,>=1.24.3 in c:\\users\\mages\\anaconda3\\lib\\site-packages (from tensorflow-intel==2.11.0->tensorflow) (1.42.0)\n",
      "Requirement already satisfied: termcolor>=1.1.0 in c:\\users\\mages\\anaconda3\\lib\\site-packages (from tensorflow-intel==2.11.0->tensorflow) (2.2.0)\n",
      "Requirement already satisfied: packaging in c:\\users\\mages\\anaconda3\\lib\\site-packages (from tensorflow-intel==2.11.0->tensorflow) (21.3)\n",
      "Requirement already satisfied: h5py>=2.9.0 in c:\\users\\mages\\anaconda3\\lib\\site-packages (from tensorflow-intel==2.11.0->tensorflow) (3.6.0)\n",
      "Requirement already satisfied: astunparse>=1.6.0 in c:\\users\\mages\\anaconda3\\lib\\site-packages (from tensorflow-intel==2.11.0->tensorflow) (1.6.3)\n",
      "Requirement already satisfied: typing-extensions>=3.6.6 in c:\\users\\mages\\anaconda3\\lib\\site-packages (from tensorflow-intel==2.11.0->tensorflow) (4.1.1)\n",
      "Requirement already satisfied: keras<2.12,>=2.11.0 in c:\\users\\mages\\anaconda3\\lib\\site-packages (from tensorflow-intel==2.11.0->tensorflow) (2.11.0)\n",
      "Requirement already satisfied: six>=1.12.0 in c:\\users\\mages\\anaconda3\\lib\\site-packages (from tensorflow-intel==2.11.0->tensorflow) (1.16.0)\n",
      "Requirement already satisfied: opt-einsum>=2.3.2 in c:\\users\\mages\\anaconda3\\lib\\site-packages (from tensorflow-intel==2.11.0->tensorflow) (3.3.0)\n",
      "Requirement already satisfied: gast<=0.4.0,>=0.2.1 in c:\\users\\mages\\anaconda3\\lib\\site-packages (from tensorflow-intel==2.11.0->tensorflow) (0.4.0)\n",
      "Requirement already satisfied: numpy>=1.20 in c:\\users\\mages\\anaconda3\\lib\\site-packages (from tensorflow-intel==2.11.0->tensorflow) (1.21.5)\n",
      "Requirement already satisfied: wheel<1.0,>=0.23.0 in c:\\users\\mages\\anaconda3\\lib\\site-packages (from astunparse>=1.6.0->tensorflow-intel==2.11.0->tensorflow) (0.37.1)\n",
      "Requirement already satisfied: google-auth-oauthlib<0.5,>=0.4.1 in c:\\users\\mages\\anaconda3\\lib\\site-packages (from tensorboard<2.12,>=2.11->tensorflow-intel==2.11.0->tensorflow) (0.4.6)\n",
      "Requirement already satisfied: markdown>=2.6.8 in c:\\users\\mages\\anaconda3\\lib\\site-packages (from tensorboard<2.12,>=2.11->tensorflow-intel==2.11.0->tensorflow) (3.3.4)\n",
      "Requirement already satisfied: requests<3,>=2.21.0 in c:\\users\\mages\\anaconda3\\lib\\site-packages (from tensorboard<2.12,>=2.11->tensorflow-intel==2.11.0->tensorflow) (2.27.1)\n",
      "Requirement already satisfied: google-auth<3,>=1.6.3 in c:\\users\\mages\\anaconda3\\lib\\site-packages (from tensorboard<2.12,>=2.11->tensorflow-intel==2.11.0->tensorflow) (1.33.0)\n",
      "Requirement already satisfied: tensorboard-data-server<0.7.0,>=0.6.0 in c:\\users\\mages\\anaconda3\\lib\\site-packages (from tensorboard<2.12,>=2.11->tensorflow-intel==2.11.0->tensorflow) (0.6.1)\n",
      "Requirement already satisfied: tensorboard-plugin-wit>=1.6.0 in c:\\users\\mages\\anaconda3\\lib\\site-packages (from tensorboard<2.12,>=2.11->tensorflow-intel==2.11.0->tensorflow) (1.8.1)\n",
      "Requirement already satisfied: werkzeug>=1.0.1 in c:\\users\\mages\\anaconda3\\lib\\site-packages (from tensorboard<2.12,>=2.11->tensorflow-intel==2.11.0->tensorflow) (2.0.3)\n",
      "Requirement already satisfied: pyasn1-modules>=0.2.1 in c:\\users\\mages\\anaconda3\\lib\\site-packages (from google-auth<3,>=1.6.3->tensorboard<2.12,>=2.11->tensorflow-intel==2.11.0->tensorflow) (0.2.8)\n",
      "Requirement already satisfied: rsa<5,>=3.1.4 in c:\\users\\mages\\anaconda3\\lib\\site-packages (from google-auth<3,>=1.6.3->tensorboard<2.12,>=2.11->tensorflow-intel==2.11.0->tensorflow) (4.7.2)\n",
      "Requirement already satisfied: cachetools<5.0,>=2.0.0 in c:\\users\\mages\\anaconda3\\lib\\site-packages (from google-auth<3,>=1.6.3->tensorboard<2.12,>=2.11->tensorflow-intel==2.11.0->tensorflow) (4.2.2)\n",
      "Requirement already satisfied: requests-oauthlib>=0.7.0 in c:\\users\\mages\\anaconda3\\lib\\site-packages (from google-auth-oauthlib<0.5,>=0.4.1->tensorboard<2.12,>=2.11->tensorflow-intel==2.11.0->tensorflow) (1.3.1)\n",
      "Requirement already satisfied: pyasn1<0.5.0,>=0.4.6 in c:\\users\\mages\\anaconda3\\lib\\site-packages (from pyasn1-modules>=0.2.1->google-auth<3,>=1.6.3->tensorboard<2.12,>=2.11->tensorflow-intel==2.11.0->tensorflow) (0.4.8)\n",
      "Requirement already satisfied: urllib3<1.27,>=1.21.1 in c:\\users\\mages\\anaconda3\\lib\\site-packages (from requests<3,>=2.21.0->tensorboard<2.12,>=2.11->tensorflow-intel==2.11.0->tensorflow) (1.26.9)\n",
      "Requirement already satisfied: idna<4,>=2.5 in c:\\users\\mages\\anaconda3\\lib\\site-packages (from requests<3,>=2.21.0->tensorboard<2.12,>=2.11->tensorflow-intel==2.11.0->tensorflow) (3.3)\n",
      "Requirement already satisfied: certifi>=2017.4.17 in c:\\users\\mages\\anaconda3\\lib\\site-packages (from requests<3,>=2.21.0->tensorboard<2.12,>=2.11->tensorflow-intel==2.11.0->tensorflow) (2021.10.8)\n",
      "Requirement already satisfied: charset-normalizer~=2.0.0 in c:\\users\\mages\\anaconda3\\lib\\site-packages (from requests<3,>=2.21.0->tensorboard<2.12,>=2.11->tensorflow-intel==2.11.0->tensorflow) (2.0.4)\n",
      "Requirement already satisfied: oauthlib>=3.0.0 in c:\\users\\mages\\anaconda3\\lib\\site-packages (from requests-oauthlib>=0.7.0->google-auth-oauthlib<0.5,>=0.4.1->tensorboard<2.12,>=2.11->tensorflow-intel==2.11.0->tensorflow) (3.2.2)\n",
      "Requirement already satisfied: pyparsing!=3.0.5,>=2.0.2 in c:\\users\\mages\\anaconda3\\lib\\site-packages (from packaging->tensorflow-intel==2.11.0->tensorflow) (3.0.4)\n",
      "Note: you may need to restart the kernel to use updated packages.\n"
     ]
    }
   ],
   "source": [
    "pip install tensorflow"
   ]
  },
  {
   "cell_type": "code",
   "execution_count": 69,
   "id": "a4d120a6",
   "metadata": {},
   "outputs": [],
   "source": [
    "# import libraries\n",
    "import pandas as pd\n",
    "import numpy as np\n",
    "import tensorflow as tf\n",
    "from tensorflow import keras\n",
    "import matplotlib.pyplot as plt\n",
    "import seaborn as sns\n",
    "from tensorflow.keras.models import Sequential\n",
    "from tensorflow.keras.layers import Dense,Dropout\n",
    "from tensorflow.keras.callbacks import EarlyStopping\n",
    "from sklearn.model_selection import train_test_split\n",
    "from sklearn.preprocessing import MinMaxScaler\n",
    "from sklearn.preprocessing import LabelEncoder\n",
    "from tensorflow.keras.models import load_model\n",
    "from sklearn import metrics\n",
    "import seaborn as sns\n",
    "from sklearn.metrics import accuracy_score,recall_score,precision_score,f1_score"
   ]
  },
  {
   "cell_type": "code",
   "execution_count": 72,
   "id": "449828bc",
   "metadata": {},
   "outputs": [],
   "source": [
    "# python code to split data into train\n",
    "\n",
    "cleaned_data = pd.read_excel(\"cleaned_data2.xlsx\")"
   ]
  },
  {
   "cell_type": "code",
   "execution_count": 74,
   "id": "799adb21",
   "metadata": {},
   "outputs": [
    {
     "data": {
      "text/html": [
       "<div>\n",
       "<style scoped>\n",
       "    .dataframe tbody tr th:only-of-type {\n",
       "        vertical-align: middle;\n",
       "    }\n",
       "\n",
       "    .dataframe tbody tr th {\n",
       "        vertical-align: top;\n",
       "    }\n",
       "\n",
       "    .dataframe thead th {\n",
       "        text-align: right;\n",
       "    }\n",
       "</style>\n",
       "<table border=\"1\" class=\"dataframe\">\n",
       "  <thead>\n",
       "    <tr style=\"text-align: right;\">\n",
       "      <th></th>\n",
       "      <th>loan_amnt</th>\n",
       "      <th>funded_amnt</th>\n",
       "      <th>funded_amnt_inv</th>\n",
       "      <th>int_rate</th>\n",
       "      <th>installment</th>\n",
       "      <th>sub_grade</th>\n",
       "      <th>annual_inc</th>\n",
       "      <th>pub_rec</th>\n",
       "      <th>revol_bal</th>\n",
       "      <th>total_pymnt</th>\n",
       "      <th>total_pymnt_inv</th>\n",
       "      <th>total_rec_prncp</th>\n",
       "      <th>total_rec_int</th>\n",
       "      <th>recoveries</th>\n",
       "      <th>collection_recovery_fee</th>\n",
       "      <th>last_pymnt_amnt</th>\n",
       "      <th>loan_is_bad</th>\n",
       "    </tr>\n",
       "  </thead>\n",
       "  <tbody>\n",
       "    <tr>\n",
       "      <th>0</th>\n",
       "      <td>11200</td>\n",
       "      <td>11200</td>\n",
       "      <td>11200.0</td>\n",
       "      <td>6.62</td>\n",
       "      <td>343.89</td>\n",
       "      <td>2</td>\n",
       "      <td>108000.0</td>\n",
       "      <td>0</td>\n",
       "      <td>37822</td>\n",
       "      <td>11676.06</td>\n",
       "      <td>11676.06</td>\n",
       "      <td>10504.53</td>\n",
       "      <td>1171.53</td>\n",
       "      <td>0.0</td>\n",
       "      <td>0.000</td>\n",
       "      <td>343.89</td>\n",
       "      <td>0</td>\n",
       "    </tr>\n",
       "    <tr>\n",
       "      <th>1</th>\n",
       "      <td>10000</td>\n",
       "      <td>10000</td>\n",
       "      <td>10000.0</td>\n",
       "      <td>11.14</td>\n",
       "      <td>328.06</td>\n",
       "      <td>7</td>\n",
       "      <td>65000.0</td>\n",
       "      <td>0</td>\n",
       "      <td>16623</td>\n",
       "      <td>4620.34</td>\n",
       "      <td>4620.34</td>\n",
       "      <td>2710.84</td>\n",
       "      <td>897.60</td>\n",
       "      <td>1011.9</td>\n",
       "      <td>10.119</td>\n",
       "      <td>328.06</td>\n",
       "      <td>1</td>\n",
       "    </tr>\n",
       "    <tr>\n",
       "      <th>2</th>\n",
       "      <td>8000</td>\n",
       "      <td>8000</td>\n",
       "      <td>8000.0</td>\n",
       "      <td>16.29</td>\n",
       "      <td>282.41</td>\n",
       "      <td>14</td>\n",
       "      <td>35000.0</td>\n",
       "      <td>0</td>\n",
       "      <td>17938</td>\n",
       "      <td>9601.94</td>\n",
       "      <td>9601.94</td>\n",
       "      <td>7446.79</td>\n",
       "      <td>2155.15</td>\n",
       "      <td>0.0</td>\n",
       "      <td>0.000</td>\n",
       "      <td>282.41</td>\n",
       "      <td>0</td>\n",
       "    </tr>\n",
       "    <tr>\n",
       "      <th>3</th>\n",
       "      <td>16000</td>\n",
       "      <td>16000</td>\n",
       "      <td>15950.0</td>\n",
       "      <td>7.90</td>\n",
       "      <td>500.65</td>\n",
       "      <td>4</td>\n",
       "      <td>110000.0</td>\n",
       "      <td>0</td>\n",
       "      <td>23691</td>\n",
       "      <td>16768.48</td>\n",
       "      <td>16716.08</td>\n",
       "      <td>16000.00</td>\n",
       "      <td>768.48</td>\n",
       "      <td>0.0</td>\n",
       "      <td>0.000</td>\n",
       "      <td>13269.44</td>\n",
       "      <td>0</td>\n",
       "    </tr>\n",
       "    <tr>\n",
       "      <th>4</th>\n",
       "      <td>4000</td>\n",
       "      <td>4000</td>\n",
       "      <td>4000.0</td>\n",
       "      <td>7.90</td>\n",
       "      <td>125.17</td>\n",
       "      <td>4</td>\n",
       "      <td>155000.0</td>\n",
       "      <td>0</td>\n",
       "      <td>43945</td>\n",
       "      <td>4252.06</td>\n",
       "      <td>4252.06</td>\n",
       "      <td>3749.42</td>\n",
       "      <td>502.64</td>\n",
       "      <td>0.0</td>\n",
       "      <td>0.000</td>\n",
       "      <td>125.17</td>\n",
       "      <td>0</td>\n",
       "    </tr>\n",
       "  </tbody>\n",
       "</table>\n",
       "</div>"
      ],
      "text/plain": [
       "   loan_amnt  funded_amnt  funded_amnt_inv  int_rate  installment  sub_grade  \\\n",
       "0      11200        11200          11200.0      6.62       343.89          2   \n",
       "1      10000        10000          10000.0     11.14       328.06          7   \n",
       "2       8000         8000           8000.0     16.29       282.41         14   \n",
       "3      16000        16000          15950.0      7.90       500.65          4   \n",
       "4       4000         4000           4000.0      7.90       125.17          4   \n",
       "\n",
       "   annual_inc  pub_rec  revol_bal  total_pymnt  total_pymnt_inv  \\\n",
       "0    108000.0        0      37822     11676.06         11676.06   \n",
       "1     65000.0        0      16623      4620.34          4620.34   \n",
       "2     35000.0        0      17938      9601.94          9601.94   \n",
       "3    110000.0        0      23691     16768.48         16716.08   \n",
       "4    155000.0        0      43945      4252.06          4252.06   \n",
       "\n",
       "   total_rec_prncp  total_rec_int  recoveries  collection_recovery_fee  \\\n",
       "0         10504.53        1171.53         0.0                    0.000   \n",
       "1          2710.84         897.60      1011.9                   10.119   \n",
       "2          7446.79        2155.15         0.0                    0.000   \n",
       "3         16000.00         768.48         0.0                    0.000   \n",
       "4          3749.42         502.64         0.0                    0.000   \n",
       "\n",
       "   last_pymnt_amnt  loan_is_bad  \n",
       "0           343.89            0  \n",
       "1           328.06            1  \n",
       "2           282.41            0  \n",
       "3         13269.44            0  \n",
       "4           125.17            0  "
      ]
     },
     "execution_count": 74,
     "metadata": {},
     "output_type": "execute_result"
    }
   ],
   "source": [
    "cleaned_data.head()"
   ]
  },
  {
   "cell_type": "code",
   "execution_count": 75,
   "id": "cabcaf75",
   "metadata": {},
   "outputs": [],
   "source": [
    "X = cleaned_data.drop('loan_is_bad', axis = 1)\n",
    "Y = cleaned_data['loan_is_bad']"
   ]
  },
  {
   "cell_type": "code",
   "execution_count": 76,
   "id": "b36521b4",
   "metadata": {},
   "outputs": [
    {
     "data": {
      "text/html": [
       "<div>\n",
       "<style scoped>\n",
       "    .dataframe tbody tr th:only-of-type {\n",
       "        vertical-align: middle;\n",
       "    }\n",
       "\n",
       "    .dataframe tbody tr th {\n",
       "        vertical-align: top;\n",
       "    }\n",
       "\n",
       "    .dataframe thead th {\n",
       "        text-align: right;\n",
       "    }\n",
       "</style>\n",
       "<table border=\"1\" class=\"dataframe\">\n",
       "  <thead>\n",
       "    <tr style=\"text-align: right;\">\n",
       "      <th></th>\n",
       "      <th>loan_amnt</th>\n",
       "      <th>funded_amnt</th>\n",
       "      <th>funded_amnt_inv</th>\n",
       "      <th>int_rate</th>\n",
       "      <th>installment</th>\n",
       "      <th>sub_grade</th>\n",
       "      <th>annual_inc</th>\n",
       "      <th>pub_rec</th>\n",
       "      <th>revol_bal</th>\n",
       "      <th>total_pymnt</th>\n",
       "      <th>total_pymnt_inv</th>\n",
       "      <th>total_rec_prncp</th>\n",
       "      <th>total_rec_int</th>\n",
       "      <th>recoveries</th>\n",
       "      <th>collection_recovery_fee</th>\n",
       "      <th>last_pymnt_amnt</th>\n",
       "    </tr>\n",
       "  </thead>\n",
       "  <tbody>\n",
       "    <tr>\n",
       "      <th>0</th>\n",
       "      <td>11200</td>\n",
       "      <td>11200</td>\n",
       "      <td>11200.0</td>\n",
       "      <td>6.62</td>\n",
       "      <td>343.89</td>\n",
       "      <td>2</td>\n",
       "      <td>108000.0</td>\n",
       "      <td>0</td>\n",
       "      <td>37822</td>\n",
       "      <td>11676.06</td>\n",
       "      <td>11676.06</td>\n",
       "      <td>10504.53</td>\n",
       "      <td>1171.53</td>\n",
       "      <td>0.0</td>\n",
       "      <td>0.000</td>\n",
       "      <td>343.89</td>\n",
       "    </tr>\n",
       "    <tr>\n",
       "      <th>1</th>\n",
       "      <td>10000</td>\n",
       "      <td>10000</td>\n",
       "      <td>10000.0</td>\n",
       "      <td>11.14</td>\n",
       "      <td>328.06</td>\n",
       "      <td>7</td>\n",
       "      <td>65000.0</td>\n",
       "      <td>0</td>\n",
       "      <td>16623</td>\n",
       "      <td>4620.34</td>\n",
       "      <td>4620.34</td>\n",
       "      <td>2710.84</td>\n",
       "      <td>897.60</td>\n",
       "      <td>1011.9</td>\n",
       "      <td>10.119</td>\n",
       "      <td>328.06</td>\n",
       "    </tr>\n",
       "    <tr>\n",
       "      <th>2</th>\n",
       "      <td>8000</td>\n",
       "      <td>8000</td>\n",
       "      <td>8000.0</td>\n",
       "      <td>16.29</td>\n",
       "      <td>282.41</td>\n",
       "      <td>14</td>\n",
       "      <td>35000.0</td>\n",
       "      <td>0</td>\n",
       "      <td>17938</td>\n",
       "      <td>9601.94</td>\n",
       "      <td>9601.94</td>\n",
       "      <td>7446.79</td>\n",
       "      <td>2155.15</td>\n",
       "      <td>0.0</td>\n",
       "      <td>0.000</td>\n",
       "      <td>282.41</td>\n",
       "    </tr>\n",
       "    <tr>\n",
       "      <th>3</th>\n",
       "      <td>16000</td>\n",
       "      <td>16000</td>\n",
       "      <td>15950.0</td>\n",
       "      <td>7.90</td>\n",
       "      <td>500.65</td>\n",
       "      <td>4</td>\n",
       "      <td>110000.0</td>\n",
       "      <td>0</td>\n",
       "      <td>23691</td>\n",
       "      <td>16768.48</td>\n",
       "      <td>16716.08</td>\n",
       "      <td>16000.00</td>\n",
       "      <td>768.48</td>\n",
       "      <td>0.0</td>\n",
       "      <td>0.000</td>\n",
       "      <td>13269.44</td>\n",
       "    </tr>\n",
       "    <tr>\n",
       "      <th>4</th>\n",
       "      <td>4000</td>\n",
       "      <td>4000</td>\n",
       "      <td>4000.0</td>\n",
       "      <td>7.90</td>\n",
       "      <td>125.17</td>\n",
       "      <td>4</td>\n",
       "      <td>155000.0</td>\n",
       "      <td>0</td>\n",
       "      <td>43945</td>\n",
       "      <td>4252.06</td>\n",
       "      <td>4252.06</td>\n",
       "      <td>3749.42</td>\n",
       "      <td>502.64</td>\n",
       "      <td>0.0</td>\n",
       "      <td>0.000</td>\n",
       "      <td>125.17</td>\n",
       "    </tr>\n",
       "  </tbody>\n",
       "</table>\n",
       "</div>"
      ],
      "text/plain": [
       "   loan_amnt  funded_amnt  funded_amnt_inv  int_rate  installment  sub_grade  \\\n",
       "0      11200        11200          11200.0      6.62       343.89          2   \n",
       "1      10000        10000          10000.0     11.14       328.06          7   \n",
       "2       8000         8000           8000.0     16.29       282.41         14   \n",
       "3      16000        16000          15950.0      7.90       500.65          4   \n",
       "4       4000         4000           4000.0      7.90       125.17          4   \n",
       "\n",
       "   annual_inc  pub_rec  revol_bal  total_pymnt  total_pymnt_inv  \\\n",
       "0    108000.0        0      37822     11676.06         11676.06   \n",
       "1     65000.0        0      16623      4620.34          4620.34   \n",
       "2     35000.0        0      17938      9601.94          9601.94   \n",
       "3    110000.0        0      23691     16768.48         16716.08   \n",
       "4    155000.0        0      43945      4252.06          4252.06   \n",
       "\n",
       "   total_rec_prncp  total_rec_int  recoveries  collection_recovery_fee  \\\n",
       "0         10504.53        1171.53         0.0                    0.000   \n",
       "1          2710.84         897.60      1011.9                   10.119   \n",
       "2          7446.79        2155.15         0.0                    0.000   \n",
       "3         16000.00         768.48         0.0                    0.000   \n",
       "4          3749.42         502.64         0.0                    0.000   \n",
       "\n",
       "   last_pymnt_amnt  \n",
       "0           343.89  \n",
       "1           328.06  \n",
       "2           282.41  \n",
       "3         13269.44  \n",
       "4           125.17  "
      ]
     },
     "execution_count": 76,
     "metadata": {},
     "output_type": "execute_result"
    }
   ],
   "source": [
    "X.head()"
   ]
  },
  {
   "cell_type": "code",
   "execution_count": 77,
   "id": "09836af3",
   "metadata": {},
   "outputs": [
    {
     "data": {
      "text/plain": [
       "0    0\n",
       "1    1\n",
       "2    0\n",
       "3    0\n",
       "4    0\n",
       "Name: loan_is_bad, dtype: int64"
      ]
     },
     "execution_count": 77,
     "metadata": {},
     "output_type": "execute_result"
    }
   ],
   "source": [
    "Y.head()"
   ]
  },
  {
   "cell_type": "code",
   "execution_count": 78,
   "id": "02de8251",
   "metadata": {},
   "outputs": [],
   "source": [
    "# split into test and train\n",
    "x_train, x_test, y_train, y_test = train_test_split(X,Y,test_size = 0.3, random_state=108)"
   ]
  },
  {
   "cell_type": "code",
   "execution_count": 79,
   "id": "bcc873e1",
   "metadata": {},
   "outputs": [],
   "source": [
    "#loading the file\n",
    "trainset= x_train"
   ]
  },
  {
   "cell_type": "code",
   "execution_count": 80,
   "id": "89cbb1d9",
   "metadata": {},
   "outputs": [
    {
     "data": {
      "text/html": [
       "<div>\n",
       "<style scoped>\n",
       "    .dataframe tbody tr th:only-of-type {\n",
       "        vertical-align: middle;\n",
       "    }\n",
       "\n",
       "    .dataframe tbody tr th {\n",
       "        vertical-align: top;\n",
       "    }\n",
       "\n",
       "    .dataframe thead th {\n",
       "        text-align: right;\n",
       "    }\n",
       "</style>\n",
       "<table border=\"1\" class=\"dataframe\">\n",
       "  <thead>\n",
       "    <tr style=\"text-align: right;\">\n",
       "      <th></th>\n",
       "      <th>loan_amnt</th>\n",
       "      <th>funded_amnt</th>\n",
       "      <th>funded_amnt_inv</th>\n",
       "      <th>int_rate</th>\n",
       "      <th>installment</th>\n",
       "      <th>sub_grade</th>\n",
       "      <th>annual_inc</th>\n",
       "      <th>pub_rec</th>\n",
       "      <th>revol_bal</th>\n",
       "      <th>total_pymnt</th>\n",
       "      <th>total_pymnt_inv</th>\n",
       "      <th>total_rec_prncp</th>\n",
       "      <th>total_rec_int</th>\n",
       "      <th>recoveries</th>\n",
       "      <th>collection_recovery_fee</th>\n",
       "      <th>last_pymnt_amnt</th>\n",
       "    </tr>\n",
       "  </thead>\n",
       "  <tbody>\n",
       "    <tr>\n",
       "      <th>10910</th>\n",
       "      <td>6000</td>\n",
       "      <td>6000</td>\n",
       "      <td>6000.0</td>\n",
       "      <td>13.11</td>\n",
       "      <td>202.49</td>\n",
       "      <td>9</td>\n",
       "      <td>34000.0</td>\n",
       "      <td>0</td>\n",
       "      <td>7689</td>\n",
       "      <td>6634.500000</td>\n",
       "      <td>6634.50</td>\n",
       "      <td>6000.0</td>\n",
       "      <td>634.50</td>\n",
       "      <td>0.0</td>\n",
       "      <td>0.0</td>\n",
       "      <td>4615.88</td>\n",
       "    </tr>\n",
       "    <tr>\n",
       "      <th>12113</th>\n",
       "      <td>35000</td>\n",
       "      <td>35000</td>\n",
       "      <td>35000.0</td>\n",
       "      <td>15.31</td>\n",
       "      <td>1218.61</td>\n",
       "      <td>12</td>\n",
       "      <td>5000000.0</td>\n",
       "      <td>0</td>\n",
       "      <td>975800</td>\n",
       "      <td>43114.630000</td>\n",
       "      <td>43114.63</td>\n",
       "      <td>35000.0</td>\n",
       "      <td>8114.63</td>\n",
       "      <td>0.0</td>\n",
       "      <td>0.0</td>\n",
       "      <td>58.03</td>\n",
       "    </tr>\n",
       "    <tr>\n",
       "      <th>30187</th>\n",
       "      <td>10000</td>\n",
       "      <td>10000</td>\n",
       "      <td>10000.0</td>\n",
       "      <td>12.12</td>\n",
       "      <td>332.72</td>\n",
       "      <td>8</td>\n",
       "      <td>75000.0</td>\n",
       "      <td>0</td>\n",
       "      <td>16348</td>\n",
       "      <td>11959.050006</td>\n",
       "      <td>11959.05</td>\n",
       "      <td>10000.0</td>\n",
       "      <td>1959.05</td>\n",
       "      <td>0.0</td>\n",
       "      <td>0.0</td>\n",
       "      <td>1314.22</td>\n",
       "    </tr>\n",
       "  </tbody>\n",
       "</table>\n",
       "</div>"
      ],
      "text/plain": [
       "       loan_amnt  funded_amnt  funded_amnt_inv  int_rate  installment  \\\n",
       "10910       6000         6000           6000.0     13.11       202.49   \n",
       "12113      35000        35000          35000.0     15.31      1218.61   \n",
       "30187      10000        10000          10000.0     12.12       332.72   \n",
       "\n",
       "       sub_grade  annual_inc  pub_rec  revol_bal   total_pymnt  \\\n",
       "10910          9     34000.0        0       7689   6634.500000   \n",
       "12113         12   5000000.0        0     975800  43114.630000   \n",
       "30187          8     75000.0        0      16348  11959.050006   \n",
       "\n",
       "       total_pymnt_inv  total_rec_prncp  total_rec_int  recoveries  \\\n",
       "10910          6634.50           6000.0         634.50         0.0   \n",
       "12113         43114.63          35000.0        8114.63         0.0   \n",
       "30187         11959.05          10000.0        1959.05         0.0   \n",
       "\n",
       "       collection_recovery_fee  last_pymnt_amnt  \n",
       "10910                      0.0          4615.88  \n",
       "12113                      0.0            58.03  \n",
       "30187                      0.0          1314.22  "
      ]
     },
     "execution_count": 80,
     "metadata": {},
     "output_type": "execute_result"
    }
   ],
   "source": [
    "#Printing 3 first rows of trainset\n",
    "trainset.head(3)"
   ]
  },
  {
   "cell_type": "code",
   "execution_count": 81,
   "id": "c01a8f19",
   "metadata": {},
   "outputs": [],
   "source": [
    "#loading the file\n",
    "testset= x_test"
   ]
  },
  {
   "cell_type": "code",
   "execution_count": 82,
   "id": "b893010b",
   "metadata": {},
   "outputs": [
    {
     "data": {
      "text/html": [
       "<div>\n",
       "<style scoped>\n",
       "    .dataframe tbody tr th:only-of-type {\n",
       "        vertical-align: middle;\n",
       "    }\n",
       "\n",
       "    .dataframe tbody tr th {\n",
       "        vertical-align: top;\n",
       "    }\n",
       "\n",
       "    .dataframe thead th {\n",
       "        text-align: right;\n",
       "    }\n",
       "</style>\n",
       "<table border=\"1\" class=\"dataframe\">\n",
       "  <thead>\n",
       "    <tr style=\"text-align: right;\">\n",
       "      <th></th>\n",
       "      <th>loan_amnt</th>\n",
       "      <th>funded_amnt</th>\n",
       "      <th>funded_amnt_inv</th>\n",
       "      <th>int_rate</th>\n",
       "      <th>installment</th>\n",
       "      <th>sub_grade</th>\n",
       "      <th>annual_inc</th>\n",
       "      <th>pub_rec</th>\n",
       "      <th>revol_bal</th>\n",
       "      <th>total_pymnt</th>\n",
       "      <th>total_pymnt_inv</th>\n",
       "      <th>total_rec_prncp</th>\n",
       "      <th>total_rec_int</th>\n",
       "      <th>recoveries</th>\n",
       "      <th>collection_recovery_fee</th>\n",
       "      <th>last_pymnt_amnt</th>\n",
       "    </tr>\n",
       "  </thead>\n",
       "  <tbody>\n",
       "    <tr>\n",
       "      <th>29980</th>\n",
       "      <td>5500</td>\n",
       "      <td>5500</td>\n",
       "      <td>5500.0</td>\n",
       "      <td>7.90</td>\n",
       "      <td>172.10</td>\n",
       "      <td>4</td>\n",
       "      <td>38680.0</td>\n",
       "      <td>0</td>\n",
       "      <td>4206</td>\n",
       "      <td>6063.580521</td>\n",
       "      <td>6063.58</td>\n",
       "      <td>5500.0</td>\n",
       "      <td>563.58</td>\n",
       "      <td>0.00</td>\n",
       "      <td>0.0000</td>\n",
       "      <td>2626.68</td>\n",
       "    </tr>\n",
       "    <tr>\n",
       "      <th>13000</th>\n",
       "      <td>10000</td>\n",
       "      <td>10000</td>\n",
       "      <td>10000.0</td>\n",
       "      <td>12.12</td>\n",
       "      <td>332.72</td>\n",
       "      <td>8</td>\n",
       "      <td>95000.0</td>\n",
       "      <td>0</td>\n",
       "      <td>6793</td>\n",
       "      <td>8026.460000</td>\n",
       "      <td>8026.46</td>\n",
       "      <td>4823.1</td>\n",
       "      <td>1493.68</td>\n",
       "      <td>1709.68</td>\n",
       "      <td>290.6456</td>\n",
       "      <td>332.72</td>\n",
       "    </tr>\n",
       "    <tr>\n",
       "      <th>4595</th>\n",
       "      <td>12000</td>\n",
       "      <td>12000</td>\n",
       "      <td>11975.0</td>\n",
       "      <td>14.33</td>\n",
       "      <td>412.06</td>\n",
       "      <td>11</td>\n",
       "      <td>50000.0</td>\n",
       "      <td>0</td>\n",
       "      <td>9879</td>\n",
       "      <td>13390.810000</td>\n",
       "      <td>13362.93</td>\n",
       "      <td>12000.0</td>\n",
       "      <td>1390.81</td>\n",
       "      <td>0.00</td>\n",
       "      <td>0.0000</td>\n",
       "      <td>9281.82</td>\n",
       "    </tr>\n",
       "  </tbody>\n",
       "</table>\n",
       "</div>"
      ],
      "text/plain": [
       "       loan_amnt  funded_amnt  funded_amnt_inv  int_rate  installment  \\\n",
       "29980       5500         5500           5500.0      7.90       172.10   \n",
       "13000      10000        10000          10000.0     12.12       332.72   \n",
       "4595       12000        12000          11975.0     14.33       412.06   \n",
       "\n",
       "       sub_grade  annual_inc  pub_rec  revol_bal   total_pymnt  \\\n",
       "29980          4     38680.0        0       4206   6063.580521   \n",
       "13000          8     95000.0        0       6793   8026.460000   \n",
       "4595          11     50000.0        0       9879  13390.810000   \n",
       "\n",
       "       total_pymnt_inv  total_rec_prncp  total_rec_int  recoveries  \\\n",
       "29980          6063.58           5500.0         563.58        0.00   \n",
       "13000          8026.46           4823.1        1493.68     1709.68   \n",
       "4595          13362.93          12000.0        1390.81        0.00   \n",
       "\n",
       "       collection_recovery_fee  last_pymnt_amnt  \n",
       "29980                   0.0000          2626.68  \n",
       "13000                 290.6456           332.72  \n",
       "4595                    0.0000          9281.82  "
      ]
     },
     "execution_count": 82,
     "metadata": {},
     "output_type": "execute_result"
    }
   ],
   "source": [
    "#Printing 3 first rows of testset\n",
    "testset.head(3)"
   ]
  },
  {
   "cell_type": "markdown",
   "id": "b5b11b35",
   "metadata": {},
   "source": [
    "First, create separate arrays for the predictors (`Xtrain`) and for the target (`ytrain`):"
   ]
  },
  {
   "cell_type": "code",
   "execution_count": 83,
   "id": "d13b82b9",
   "metadata": {},
   "outputs": [
    {
     "data": {
      "text/plain": [
       "10910    0\n",
       "12113    0\n",
       "30187    0\n",
       "Name: loan_is_bad, dtype: int64"
      ]
     },
     "execution_count": 83,
     "metadata": {},
     "output_type": "execute_result"
    }
   ],
   "source": [
    "#Printing 3 first rows of y trainset \n",
    "y_train.head(3)"
   ]
  },
  {
   "cell_type": "markdown",
   "id": "7614335e",
   "metadata": {},
   "source": [
    "First, create separate arrays for the predictors (`Xtest`) and for the target (`ytest`):"
   ]
  },
  {
   "cell_type": "code",
   "execution_count": 85,
   "id": "f3e0de27",
   "metadata": {},
   "outputs": [
    {
     "data": {
      "text/plain": [
       "29980    0\n",
       "13000    1\n",
       "4595     0\n",
       "Name: loan_is_bad, dtype: int64"
      ]
     },
     "execution_count": 85,
     "metadata": {},
     "output_type": "execute_result"
    }
   ],
   "source": [
    "#Printing 3 first rows of y testset \n",
    "\n",
    "y_test.head(3)"
   ]
  },
  {
   "cell_type": "code",
   "execution_count": 102,
   "id": "2139eb2d",
   "metadata": {},
   "outputs": [],
   "source": [
    "# BUILD A MODEL\n",
    "model = keras.Sequential([\n",
    "    keras.layers.Dense(19, activation='relu'),\n",
    "    keras.layers.Dense(10, activation='relu'),\n",
    "    keras.layers.Dense(5, activation='relu'),\n",
    "    keras.layers.Dense(1, activation='sigmoid')\n",
    "])"
   ]
  },
  {
   "cell_type": "code",
   "execution_count": 103,
   "id": "4a849e07",
   "metadata": {},
   "outputs": [],
   "source": [
    "# COMPILE THE MODEL\n",
    "model.compile(optimizer='adam',\n",
    "              loss='binary_crossentropy',\n",
    "              metrics=['accuracy'])\n"
   ]
  },
  {
   "cell_type": "code",
   "execution_count": 104,
   "id": "35628d9d",
   "metadata": {},
   "outputs": [],
   "source": [
    "# SET OUT 10,000 REVIEWS FROM TRAINING DATA TO USE FOR VALIDATION\n",
    "x_val = x_train[:10000]\n",
    "partial_x_train = x_train[10000:]\n",
    "\n",
    "y_val = y_train[:10000]\n",
    "partial_y_train = y_train[10000:]"
   ]
  },
  {
   "cell_type": "code",
   "execution_count": 105,
   "id": "bdf9ad6d",
   "metadata": {},
   "outputs": [
    {
     "name": "stdout",
     "output_type": "stream",
     "text": [
      "Epoch 1/20\n",
      "28/28 [==============================] - 1s 9ms/step - loss: 3266.2957 - accuracy: 0.4415 - val_loss: 982.0820 - val_accuracy: 0.7945\n",
      "Epoch 2/20\n",
      "28/28 [==============================] - 0s 3ms/step - loss: 829.6248 - accuracy: 0.8150 - val_loss: 651.7526 - val_accuracy: 0.8138\n",
      "Epoch 3/20\n",
      "28/28 [==============================] - 0s 3ms/step - loss: 411.9584 - accuracy: 0.7890 - val_loss: 169.9905 - val_accuracy: 0.8540\n",
      "Epoch 4/20\n",
      "28/28 [==============================] - 0s 3ms/step - loss: 119.2001 - accuracy: 0.8562 - val_loss: 68.7050 - val_accuracy: 0.8892\n",
      "Epoch 5/20\n",
      "28/28 [==============================] - 0s 3ms/step - loss: 59.5297 - accuracy: 0.8958 - val_loss: 50.4267 - val_accuracy: 0.9012\n",
      "Epoch 6/20\n",
      "28/28 [==============================] - 0s 2ms/step - loss: 45.9390 - accuracy: 0.9076 - val_loss: 41.8146 - val_accuracy: 0.9116\n",
      "Epoch 7/20\n",
      "28/28 [==============================] - 0s 3ms/step - loss: 39.3923 - accuracy: 0.9140 - val_loss: 35.6839 - val_accuracy: 0.9187\n",
      "Epoch 8/20\n",
      "28/28 [==============================] - 0s 3ms/step - loss: 35.1651 - accuracy: 0.9174 - val_loss: 31.7133 - val_accuracy: 0.9216\n",
      "Epoch 9/20\n",
      "28/28 [==============================] - 0s 3ms/step - loss: 31.7058 - accuracy: 0.9201 - val_loss: 29.8024 - val_accuracy: 0.9320\n",
      "Epoch 10/20\n",
      "28/28 [==============================] - 0s 3ms/step - loss: 34.8326 - accuracy: 0.9193 - val_loss: 27.5751 - val_accuracy: 0.9356\n",
      "Epoch 11/20\n",
      "28/28 [==============================] - 0s 3ms/step - loss: 27.3372 - accuracy: 0.9262 - val_loss: 25.4428 - val_accuracy: 0.9255\n",
      "Epoch 12/20\n",
      "28/28 [==============================] - 0s 3ms/step - loss: 25.2707 - accuracy: 0.9257 - val_loss: 23.2501 - val_accuracy: 0.9341\n",
      "Epoch 13/20\n",
      "28/28 [==============================] - 0s 3ms/step - loss: 23.0379 - accuracy: 0.9287 - val_loss: 21.4575 - val_accuracy: 0.9375\n",
      "Epoch 14/20\n",
      "28/28 [==============================] - 0s 3ms/step - loss: 21.8338 - accuracy: 0.9301 - val_loss: 21.2972 - val_accuracy: 0.9287\n",
      "Epoch 15/20\n",
      "28/28 [==============================] - 0s 3ms/step - loss: 20.6583 - accuracy: 0.9310 - val_loss: 19.5727 - val_accuracy: 0.9386\n",
      "Epoch 16/20\n",
      "28/28 [==============================] - 0s 3ms/step - loss: 20.3760 - accuracy: 0.9325 - val_loss: 19.3237 - val_accuracy: 0.9289\n",
      "Epoch 17/20\n",
      "28/28 [==============================] - 0s 3ms/step - loss: 18.4338 - accuracy: 0.9339 - val_loss: 17.8473 - val_accuracy: 0.9440\n",
      "Epoch 18/20\n",
      "28/28 [==============================] - 0s 3ms/step - loss: 17.9326 - accuracy: 0.9347 - val_loss: 16.8899 - val_accuracy: 0.9395\n",
      "Epoch 19/20\n",
      "28/28 [==============================] - 0s 3ms/step - loss: 16.9148 - accuracy: 0.9346 - val_loss: 16.1804 - val_accuracy: 0.9420\n",
      "Epoch 20/20\n",
      "28/28 [==============================] - 0s 3ms/step - loss: 16.3837 - accuracy: 0.9355 - val_loss: 15.8446 - val_accuracy: 0.9465\n"
     ]
    }
   ],
   "source": [
    "# EXAMINE MODEL PERFORMANCE BETWEEN TRAINING VS VALIDATION SETS\n",
    "history = model.fit(partial_x_train,\n",
    "                    partial_y_train,\n",
    "                    epochs=20,\n",
    "                    batch_size=512,\n",
    "                    validation_data=(x_val, y_val))"
   ]
  },
  {
   "cell_type": "markdown",
   "id": "51553690",
   "metadata": {},
   "source": [
    "### Deep Learning Implementation"
   ]
  },
  {
   "cell_type": "markdown",
   "id": "7e3612a8",
   "metadata": {},
   "source": [
    "For this last step, as the majority of ML algorithms are better fitted when the input numerical attributes have simillar scales we need to apply the Normalization method. In order to achieve this, we apply the MinMax Algorithm"
   ]
  },
  {
   "cell_type": "code",
   "execution_count": 106,
   "id": "d5307603",
   "metadata": {},
   "outputs": [],
   "source": [
    "scaler = MinMaxScaler()\n",
    "X_train = scaler.fit_transform(x_train)\n",
    "X_test = scaler.transform(x_test)"
   ]
  },
  {
   "cell_type": "code",
   "execution_count": 107,
   "id": "89920831",
   "metadata": {},
   "outputs": [
    {
     "name": "stdout",
     "output_type": "stream",
     "text": [
      "Epoch 1/20\n",
      "47/47 [==============================] - 1s 5ms/step - loss: 0.6402 - accuracy: 0.8514 - val_loss: 0.5704 - val_accuracy: 0.8501\n",
      "Epoch 2/20\n",
      "47/47 [==============================] - 0s 2ms/step - loss: 0.4951 - accuracy: 0.8510 - val_loss: 0.4310 - val_accuracy: 0.8501\n",
      "Epoch 3/20\n",
      "47/47 [==============================] - 0s 2ms/step - loss: 0.3912 - accuracy: 0.8511 - val_loss: 0.3540 - val_accuracy: 0.8502\n",
      "Epoch 4/20\n",
      "47/47 [==============================] - 0s 2ms/step - loss: 0.3148 - accuracy: 0.8667 - val_loss: 0.2754 - val_accuracy: 0.8920\n",
      "Epoch 5/20\n",
      "47/47 [==============================] - 0s 2ms/step - loss: 0.2421 - accuracy: 0.9103 - val_loss: 0.2104 - val_accuracy: 0.9274\n",
      "Epoch 6/20\n",
      "47/47 [==============================] - 0s 2ms/step - loss: 0.1913 - accuracy: 0.9343 - val_loss: 0.1729 - val_accuracy: 0.9413\n",
      "Epoch 7/20\n",
      "47/47 [==============================] - 0s 2ms/step - loss: 0.1623 - accuracy: 0.9465 - val_loss: 0.1512 - val_accuracy: 0.9551\n",
      "Epoch 8/20\n",
      "47/47 [==============================] - 0s 3ms/step - loss: 0.1448 - accuracy: 0.9561 - val_loss: 0.1388 - val_accuracy: 0.9632\n",
      "Epoch 9/20\n",
      "47/47 [==============================] - 0s 2ms/step - loss: 0.1326 - accuracy: 0.9608 - val_loss: 0.1269 - val_accuracy: 0.9610\n",
      "Epoch 10/20\n",
      "47/47 [==============================] - 0s 3ms/step - loss: 0.1236 - accuracy: 0.9635 - val_loss: 0.1185 - val_accuracy: 0.9653\n",
      "Epoch 11/20\n",
      "47/47 [==============================] - 0s 2ms/step - loss: 0.1158 - accuracy: 0.9665 - val_loss: 0.1118 - val_accuracy: 0.9671\n",
      "Epoch 12/20\n",
      "47/47 [==============================] - 0s 3ms/step - loss: 0.1097 - accuracy: 0.9677 - val_loss: 0.1069 - val_accuracy: 0.9684\n",
      "Epoch 13/20\n",
      "47/47 [==============================] - 0s 2ms/step - loss: 0.1057 - accuracy: 0.9690 - val_loss: 0.1027 - val_accuracy: 0.9688\n",
      "Epoch 14/20\n",
      "47/47 [==============================] - 0s 3ms/step - loss: 0.1005 - accuracy: 0.9702 - val_loss: 0.0981 - val_accuracy: 0.9706\n",
      "Epoch 15/20\n",
      "47/47 [==============================] - 0s 3ms/step - loss: 0.0986 - accuracy: 0.9711 - val_loss: 0.0984 - val_accuracy: 0.9695\n",
      "Epoch 16/20\n",
      "47/47 [==============================] - 0s 3ms/step - loss: 0.0941 - accuracy: 0.9722 - val_loss: 0.0931 - val_accuracy: 0.9736\n",
      "Epoch 17/20\n",
      "47/47 [==============================] - 0s 2ms/step - loss: 0.0915 - accuracy: 0.9732 - val_loss: 0.0901 - val_accuracy: 0.9763\n",
      "Epoch 18/20\n",
      "47/47 [==============================] - 0s 3ms/step - loss: 0.0892 - accuracy: 0.9734 - val_loss: 0.0875 - val_accuracy: 0.9769\n",
      "Epoch 19/20\n",
      "47/47 [==============================] - 0s 2ms/step - loss: 0.0862 - accuracy: 0.9746 - val_loss: 0.0855 - val_accuracy: 0.9769\n",
      "Epoch 20/20\n",
      "47/47 [==============================] - 0s 3ms/step - loss: 0.0844 - accuracy: 0.9746 - val_loss: 0.0856 - val_accuracy: 0.9777\n"
     ]
    },
    {
     "data": {
      "text/plain": [
       "<keras.callbacks.History at 0x1f7c93630a0>"
      ]
     },
     "execution_count": 107,
     "metadata": {},
     "output_type": "execute_result"
    }
   ],
   "source": [
    "model = Sequential()\n",
    "\n",
    "model.add(\n",
    "        Dense(19, activation='relu')\n",
    ")\n",
    "\n",
    "model.add(\n",
    "        Dense(10, activation='relu')\n",
    ")\n",
    "\n",
    "model.add(\n",
    "        Dense(5, activation='relu')\n",
    ")\n",
    "\n",
    "\n",
    "model.add(\n",
    "        Dense(1, activation='sigmoid')\n",
    ")\n",
    "\n",
    "model.compile(\n",
    "        optimizer='adam', \n",
    "        loss='binary_crossentropy', \n",
    "        metrics=['accuracy']\n",
    ")\n",
    "\n",
    "early_stop = EarlyStopping(\n",
    "        monitor='val_loss', \n",
    "        mode='min', \n",
    "        verbose=1, \n",
    "        patience=25\n",
    ")\n",
    "\n",
    "model.fit(\n",
    "        X_train, \n",
    "        y_train, \n",
    "        epochs=20,\n",
    "        batch_size=512, \n",
    "        validation_data=(X_test, y_test),\n",
    "         callbacks=[early_stop]\n",
    ")"
   ]
  },
  {
   "cell_type": "code",
   "execution_count": 108,
   "id": "f8fc64e4",
   "metadata": {},
   "outputs": [
    {
     "data": {
      "text/plain": [
       "Text(0, 0.5, 'Loss')"
      ]
     },
     "execution_count": 108,
     "metadata": {},
     "output_type": "execute_result"
    },
    {
     "data": {
      "image/png": "[encoded data removed]",
      "text/plain": [
       "<Figure size 432x288 with 1 Axes>"
      ]
     },
     "metadata": {
      "needs_background": "light"
     },
     "output_type": "display_data"
    }
   ],
   "source": [
    "df = pd.DataFrame(model.history.history)[['loss','val_loss']].plot()\n",
    "\n",
    "\n",
    "# Add title and axis labels\n",
    "df.set_title('Training and Validation Loss')\n",
    "df.set_xlabel('Epochs')\n",
    "df.set_ylabel('Loss')\n"
   ]
  },
  {
   "cell_type": "markdown",
   "id": "71de6512",
   "metadata": {},
   "source": [
    "This validation result, the Loss plot, shows us the model is overfitted."
   ]
  },
  {
   "cell_type": "code",
   "execution_count": 109,
   "id": "638971bc",
   "metadata": {},
   "outputs": [
    {
     "name": "stdout",
     "output_type": "stream",
     "text": [
      "320/320 [==============================] - 0s 850us/step\n",
      "[[0]\n",
      " [1]\n",
      " [0]\n",
      " ...\n",
      " [0]\n",
      " [0]\n",
      " [0]]\n"
     ]
    }
   ],
   "source": [
    "predictions = model.predict(X_test)\n",
    "predictions = np.round(predictions).astype(int)\n",
    "print(predictions)\n",
    "#by default it takes 0.5"
   ]
  },
  {
   "cell_type": "markdown",
   "id": "3500be60",
   "metadata": {},
   "source": [
    "Evaluating the model accuracy\n"
   ]
  },
  {
   "cell_type": "code",
   "execution_count": 110,
   "id": "b9bb408a",
   "metadata": {},
   "outputs": [],
   "source": [
    "#cm=confusion_matrix(y_test,predictions)\n",
    "confusion_matrix = metrics.confusion_matrix(y_test, predictions)"
   ]
  },
  {
   "cell_type": "code",
   "execution_count": 111,
   "id": "7519a94c",
   "metadata": {},
   "outputs": [
    {
     "data": {
      "text/plain": [
       "Text(0.5, 15.0, 'Predicted label')"
      ]
     },
     "execution_count": 111,
     "metadata": {},
     "output_type": "execute_result"
    },
    {
     "data": {
      "image/png": "[encoded data removed]",
      "text/plain": [
       "<Figure size 432x288 with 2 Axes>"
      ]
     },
     "metadata": {
      "needs_background": "light"
     },
     "output_type": "display_data"
    }
   ],
   "source": [
    "#Plotting the confusion map\n",
    "sns.heatmap(pd.DataFrame(confusion_matrix), annot=True, cmap=\"YlGnBu\" ,fmt='g')\n",
    "plt.tight_layout()\n",
    "plt.title('Confusion matrix', y=1.1)\n",
    "plt.ylabel('Actual label')\n",
    "plt.xlabel('Predicted label')"
   ]
  },
  {
   "cell_type": "code",
   "execution_count": 91,
   "id": "777fdb4b",
   "metadata": {},
   "outputs": [
    {
     "name": "stdout",
     "output_type": "stream",
     "text": [
      "Accuracy Score : 0.9788566953797964\n",
      "Precision Score : 0.9834049416944106\n",
      "Recall Score : 0.9332240583872657\n",
      "F1 Score : 0.9562706696398529\n"
     ]
    }
   ],
   "source": [
    "# New Model Evaluation metrics on testset\n",
    "print('Accuracy Score : ' + str(accuracy_score(y_test,predictions)))\n",
    "print('Precision Score : ' + str(precision_score(y_test,predictions,average='macro')))\n",
    "print('Recall Score : ' + str(recall_score(y_test,predictions,average='macro')))\n",
    "print('F1 Score : ' + str(f1_score(y_test,predictions,average='macro')))"
   ]
  },
  {
   "cell_type": "code",
   "execution_count": null,
   "id": "ffbb2bff",
   "metadata": {},
   "outputs": [],
   "source": []
  }
 ],
 "metadata": {
  "kernelspec": {
   "display_name": "Python 3 (ipykernel)",
   "language": "python",
   "name": "python3"
  },
  "language_info": {
   "codemirror_mode": {
    "name": "ipython",
    "version": 3
   },
   "file_extension": ".py",
   "mimetype": "text/x-python",
   "name": "python",
   "nbconvert_exporter": "python",
   "pygments_lexer": "ipython3",
   "version": "3.9.12"
  }
 },
 "nbformat": 4,
 "nbformat_minor": 5
}
